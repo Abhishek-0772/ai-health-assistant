{
 "cells": [
  {
   "cell_type": "code",
   "execution_count": 2,
   "id": "f191bae4-3f5b-4895-850a-6f2eba79c8cf",
   "metadata": {},
   "outputs": [
    {
     "data": {
      "application/vnd.jupyter.widget-view+json": {
       "model_id": "7a6380b2ba544b21a00720f4f66f288d",
       "version_major": 2,
       "version_minor": 0
      },
      "text/plain": [
       "tokenizer_config.json:   0%|          | 0.00/237 [00:00<?, ?B/s]"
      ]
     },
     "metadata": {},
     "output_type": "display_data"
    },
    {
     "data": {
      "application/vnd.jupyter.widget-view+json": {
       "model_id": "97f96011fc744f92af01741f7d75f4ca",
       "version_major": 2,
       "version_minor": 0
      },
      "text/plain": [
       "vocab.json: 0.00B [00:00, ?B/s]"
      ]
     },
     "metadata": {},
     "output_type": "display_data"
    },
    {
     "data": {
      "application/vnd.jupyter.widget-view+json": {
       "model_id": "781d55142ced41138fbc3c0000c8b2be",
       "version_major": 2,
       "version_minor": 0
      },
      "text/plain": [
       "merges.txt: 0.00B [00:00, ?B/s]"
      ]
     },
     "metadata": {},
     "output_type": "display_data"
    },
    {
     "data": {
      "application/vnd.jupyter.widget-view+json": {
       "model_id": "3e75b7a1c3b140c1a850796f57bc0e0b",
       "version_major": 2,
       "version_minor": 0
      },
      "text/plain": [
       "tokenizer.json: 0.00B [00:00, ?B/s]"
      ]
     },
     "metadata": {},
     "output_type": "display_data"
    },
    {
     "data": {
      "application/vnd.jupyter.widget-view+json": {
       "model_id": "c0ac8b06fea94997b8a049d9bb364917",
       "version_major": 2,
       "version_minor": 0
      },
      "text/plain": [
       "added_tokens.json: 0.00B [00:00, ?B/s]"
      ]
     },
     "metadata": {},
     "output_type": "display_data"
    },
    {
     "data": {
      "application/vnd.jupyter.widget-view+json": {
       "model_id": "4c55b426b33744328848f5f0ba0e1b15",
       "version_major": 2,
       "version_minor": 0
      },
      "text/plain": [
       "special_tokens_map.json:   0%|          | 0.00/99.0 [00:00<?, ?B/s]"
      ]
     },
     "metadata": {},
     "output_type": "display_data"
    },
    {
     "data": {
      "application/vnd.jupyter.widget-view+json": {
       "model_id": "1fdb1f1d292d4997afd5dce593b2f623",
       "version_major": 2,
       "version_minor": 0
      },
      "text/plain": [
       "config.json:   0%|          | 0.00/736 [00:00<?, ?B/s]"
      ]
     },
     "metadata": {},
     "output_type": "display_data"
    },
    {
     "data": {
      "application/vnd.jupyter.widget-view+json": {
       "model_id": "1fcc16dc62824f1c8486c78577c01101",
       "version_major": 2,
       "version_minor": 0
      },
      "text/plain": [
       "model.safetensors:   0%|          | 0.00/2.84G [00:00<?, ?B/s]"
      ]
     },
     "metadata": {},
     "output_type": "display_data"
    },
    {
     "data": {
      "application/vnd.jupyter.widget-view+json": {
       "model_id": "7e9d02e4e51344e3b888335ec752b30e",
       "version_major": 2,
       "version_minor": 0
      },
      "text/plain": [
       "generation_config.json:   0%|          | 0.00/74.0 [00:00<?, ?B/s]"
      ]
     },
     "metadata": {},
     "output_type": "display_data"
    },
    {
     "name": "stdout",
     "output_type": "stream",
     "text": [
      "Running on local URL:  http://127.0.0.1:7861\n",
      "\n",
      "To create a public link, set `share=True` in `launch()`.\n"
     ]
    },
    {
     "data": {
      "text/html": [
       "<div><iframe src=\"http://127.0.0.1:7861/\" width=\"100%\" height=\"500\" allow=\"autoplay; camera; microphone; clipboard-read; clipboard-write;\" frameborder=\"0\" allowfullscreen></iframe></div>"
      ],
      "text/plain": [
       "<IPython.core.display.HTML object>"
      ]
     },
     "metadata": {},
     "output_type": "display_data"
    }
   ],
   "source": [
    "import gradio as gr\n",
    "from transformers import AutoModelForCausalLM, AutoTokenizer\n",
    "\n",
    "# Use Hugging Face-hosted model (works on Spaces)\n",
    "MODEL_PATH = \"microsoft/phi-1_5\"\n",
    "\n",
    "# Load tokenizer and model\n",
    "tokenizer = AutoTokenizer.from_pretrained(MODEL_PATH, trust_remote_code=True)\n",
    "llm_model = AutoModelForCausalLM.from_pretrained(MODEL_PATH, trust_remote_code=True)\n",
    "\n",
    "# Generate response\n",
    "def generate_answer(question, model):\n",
    "    try:\n",
    "        prompt = (\n",
    "            \"You are a compassionate and informative AI health assistant.\\n\"\n",
    "            \"Answer the following health-related question clearly and supportively. Do not include any signature or names at the end:\\n\\n\"\n",
    "            f\"{question.strip()}\\n\\n\"\n",
    "            \"Answer:\"\n",
    "        )\n",
    "\n",
    "        input_ids = tokenizer.encode(prompt, return_tensors='pt')\n",
    "        output_ids = model.generate(\n",
    "            input_ids,\n",
    "            max_new_tokens=400,\n",
    "            do_sample=True,\n",
    "            top_k=50,\n",
    "            top_p=0.9,\n",
    "            pad_token_id=tokenizer.eos_token_id\n",
    "        )\n",
    "\n",
    "        generated_ids = output_ids[0][len(input_ids[0]):]\n",
    "        answer = tokenizer.decode(generated_ids, skip_special_tokens=True)\n",
    "\n",
    "        return answer.strip()\n",
    "    except Exception as e:\n",
    "        return f\"⚠️ Error: {str(e)}\"\n",
    "\n",
    "# Gradio chatbot function\n",
    "def chatbot(question):\n",
    "    return generate_answer(question, llm_model)\n",
    "\n",
    "# Gradio Interface\n",
    "if __name__ == '__main__':\n",
    "    interface = gr.Interface(\n",
    "        fn=chatbot,\n",
    "        inputs=gr.Textbox(\n",
    "            label=\"Your Question\",\n",
    "            placeholder=\"Ask a health-related question...\",\n",
    "            lines=4,\n",
    "        ),\n",
    "        outputs=gr.Textbox(\n",
    "            label=\"AI Health Assistant Response\",\n",
    "            lines=8,\n",
    "        ),\n",
    "        title=\"🩺 AI Health Assistant\",\n",
    "        description=(\n",
    "            \"Type any general health-related question below and receive helpful guidance from the AI assistant.\\n\"\n",
    "            \"⚠️ Note: This assistant is for informational purposes only and is **not** a substitute for professional medical advice.\"\n",
    "        ),\n",
    "        theme=\"soft\",\n",
    "        allow_flagging=\"never\",\n",
    "        live=True,\n",
    "    )\n",
    "    interface.launch()\n"
   ]
  },
  {
   "cell_type": "code",
   "execution_count": null,
   "id": "3fb8f0d9-f215-4c16-becc-103f696686c9",
   "metadata": {},
   "outputs": [],
   "source": []
  }
 ],
 "metadata": {
  "kernelspec": {
   "display_name": "Python 3 (ipykernel)",
   "language": "python",
   "name": "python3"
  },
  "language_info": {
   "codemirror_mode": {
    "name": "ipython",
    "version": 3
   },
   "file_extension": ".py",
   "mimetype": "text/x-python",
   "name": "python",
   "nbconvert_exporter": "python",
   "pygments_lexer": "ipython3",
   "version": "3.9.21"
  }
 },
 "nbformat": 4,
 "nbformat_minor": 5
}
