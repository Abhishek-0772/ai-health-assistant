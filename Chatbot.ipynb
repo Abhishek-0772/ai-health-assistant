{
 "cells": [
  {
   "cell_type": "code",
   "execution_count": 12,
   "id": "f191bae4-3f5b-4895-850a-6f2eba79c8cf",
   "metadata": {},
   "outputs": [
    {
     "name": "stdout",
     "output_type": "stream",
     "text": [
      "Running on local URL:  http://127.0.0.1:7870\n",
      "\n",
      "To create a public link, set `share=True` in `launch()`.\n"
     ]
    },
    {
     "data": {
      "text/html": [
       "<div><iframe src=\"http://127.0.0.1:7870/\" width=\"100%\" height=\"500\" allow=\"autoplay; camera; microphone; clipboard-read; clipboard-write;\" frameborder=\"0\" allowfullscreen></iframe></div>"
      ],
      "text/plain": [
       "<IPython.core.display.HTML object>"
      ]
     },
     "metadata": {},
     "output_type": "display_data"
    },
    {
     "name": "stdout",
     "output_type": "stream",
     "text": [
      "=== RAW MODEL OUTPUT ===\n",
      "You are a compassionate and informative AI health assistant.\n",
      "Answer the following health-related question clearly and supportively. Do not include any signature or names at the end:\n",
      "\n",
      "How do I tell if my cold is viral or bacterial?\n",
      "\n",
      "Answer: Determining whether your cold is viral or bacterial can be tricky, as both causes are common and often indistinguishable. However, you can follow these guidelines to help distinguish between the two:\n",
      "\n",
      "1. Consult your healthcare provider or healthcare provider over-the-counter medicine: If you're not sure whether your cold is caused by a virus or bacteria, consult a healthcare professional. Your healthcare provider can examine your symptoms and provide a diagnosis. Over-the-counter medicines can help alleviate your cold symptoms, but they won't help you determine the cause of your cold.\n",
      "\n",
      "2. Look for signs of a bacterial infection: If your cold symptoms include a sore throat, sinus congestion, a fever, or discharge from your nose, it's possible that your cold is caused by a bacterial infection. In this case, your healthcare provider can prescribe antibiotics to treat the bacterial infection.\n",
      "\n",
      "3. Consider the duration of your cold: Colds caused by viruses tend to resolve on their own in 7 to 10 days, while bacterial colds require a course of antibiotics. If your cold lasts more than 10 days, it's possible it's bacterial and not viral.\n",
      "\n",
      "4. Consult your healthcare provider if you're unsure: If you're still unsure about the cause of your cold, consider seeking advice from your healthcare provider. They can help you make a more informed decision about whether to take over-the-counter medicines or whether to seek further testing and treatment.\n",
      "\n",
      "5. Stay hydrated: Staying hydrated is important for both preventing and treating a cold. Drinking plenty of water can help flush out the virus and promote recovery.\n",
      "\n",
      "By following these guidelines and keeping a close eye on your symptoms, you can determine whether your cold is viral or bacterial and make the most informed decisions about your healthcare.\n",
      "\n",
      "(Note: The information provided is for general guidance and not a substitute for professional medical advice. Consult a healthcare professional for a proper diagnosis and treatment.)\n",
      "\n",
      "\n",
      "========================\n"
     ]
    }
   ],
   "source": [
    "import gradio as gr\n",
    "from transformers import AutoModelForCausalLM, AutoTokenizer\n",
    "\n",
    "# Load model and tokenizer once\n",
    "MODEL_PATH = r\"D:\\ChatBot\\phi1.5\"\n",
    "\n",
    "tokenizer = AutoTokenizer.from_pretrained(MODEL_PATH, trust_remote_code=True)\n",
    "llm_model = AutoModelForCausalLM.from_pretrained(MODEL_PATH, trust_remote_code=True)\n",
    "\n",
    "# Function to generate AI response\n",
    "def generate_answer(question, model):\n",
    "    try:\n",
    "        prompt = (\n",
    "            \"You are a compassionate and informative AI health assistant.\\n\"\n",
    "            \"Answer the following health-related question clearly and supportively. Do not include any signature or names at the end:\\n\\n\"\n",
    "\n",
    "            f\"{question.strip()}\\n\\n\"\n",
    "            \"Answer:\"\n",
    "        )\n",
    "\n",
    "        input_ids = tokenizer.encode(prompt, return_tensors='pt')\n",
    "        output_ids = model.generate(\n",
    "            input_ids,\n",
    "            max_new_tokens=400,\n",
    "            do_sample=True,\n",
    "            top_k=50,\n",
    "            top_p=0.9,\n",
    "            pad_token_id=tokenizer.eos_token_id\n",
    "        )\n",
    "\n",
    "        # Debug: Show full model output\n",
    "        raw_output = tokenizer.decode(output_ids[0], skip_special_tokens=False)\n",
    "        print(\"=== RAW MODEL OUTPUT ===\")\n",
    "        print(raw_output)\n",
    "        print(\"========================\")\n",
    "\n",
    "        # Get only the new tokens after the prompt\n",
    "        generated_ids = output_ids[0][len(input_ids[0]):]\n",
    "        answer = tokenizer.decode(generated_ids, skip_special_tokens=True)\n",
    "\n",
    "        return answer.strip()\n",
    "    except Exception as e:\n",
    "        return f\"⚠️ Error: {str(e)}\"\n",
    "\n",
    "# Gradio interface wrapper\n",
    "def chatbot(question):\n",
    "    return generate_answer(question, llm_model)\n",
    "\n",
    "# Launch the interface\n",
    "if __name__ == '__main__':\n",
    "    interface = gr.Interface(\n",
    "        fn=chatbot,\n",
    "        inputs=gr.Textbox(\n",
    "            label=\"Your Question\",\n",
    "            placeholder=\"Ask a health-related question...\",\n",
    "            lines=4,\n",
    "        ),\n",
    "        outputs=gr.Textbox(\n",
    "            label=\"AI Health Assistant Response\",\n",
    "            lines=8,\n",
    "        ),\n",
    "        title=\"🩺 AI Health Assistant\",\n",
    "        description=(\n",
    "            \"Type any general health-related question below and receive helpful guidance from the AI assistant.\\n\"\n",
    "            \"⚠️ Note: This assistant is for informational purposes only and is **not** a substitute for professional medical advice.\"\n",
    "        ),\n",
    "        theme=\"soft\",\n",
    "        allow_flagging=\"never\",\n",
    "        live=True,  # enables typing-effect/streaming-like response\n",
    "    )\n",
    "    interface.launch()\n"
   ]
  },
  {
   "cell_type": "code",
   "execution_count": 2,
   "id": "197d3d18-3f57-4295-8274-20846abb23b5",
   "metadata": {},
   "outputs": [
    {
     "name": "stdout",
     "output_type": "stream",
     "text": [
      "Collecting einops\n",
      "  Downloading einops-0.8.1-py3-none-any.whl.metadata (13 kB)\n",
      "Downloading einops-0.8.1-py3-none-any.whl (64 kB)\n",
      "Installing collected packages: einops\n",
      "Successfully installed einops-0.8.1\n",
      "Note: you may need to restart the kernel to use updated packages.\n"
     ]
    }
   ],
   "source": [
    "# pip install einops\n",
    "# pip install transformers\n",
    "# pip install gradio\n",
    "# pip install torch"
   ]
  },
  {
   "cell_type": "code",
   "execution_count": null,
   "id": "3fb8f0d9-f215-4c16-becc-103f696686c9",
   "metadata": {},
   "outputs": [],
   "source": []
  }
 ],
 "metadata": {
  "kernelspec": {
   "display_name": "Python 3 (ipykernel)",
   "language": "python",
   "name": "python3"
  },
  "language_info": {
   "codemirror_mode": {
    "name": "ipython",
    "version": 3
   },
   "file_extension": ".py",
   "mimetype": "text/x-python",
   "name": "python",
   "nbconvert_exporter": "python",
   "pygments_lexer": "ipython3",
   "version": "3.9.21"
  }
 },
 "nbformat": 4,
 "nbformat_minor": 5
}
