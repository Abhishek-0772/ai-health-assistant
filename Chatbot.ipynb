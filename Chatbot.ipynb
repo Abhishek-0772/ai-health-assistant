{
 "cells": [
  {
   "cell_type": "code",
   "execution_count": 5,
   "id": "f191bae4-3f5b-4895-850a-6f2eba79c8cf",
   "metadata": {},
   "outputs": [
    {
     "data": {
      "application/vnd.jupyter.widget-view+json": {
       "model_id": "b79a1c61a68e444c933b9fdecd4ba720",
       "version_major": 2,
       "version_minor": 0
      },
      "text/plain": [
       "Loading checkpoint shards:   0%|          | 0/2 [00:00<?, ?it/s]"
      ]
     },
     "metadata": {},
     "output_type": "display_data"
    },
    {
     "name": "stdout",
     "output_type": "stream",
     "text": [
      "Running on local URL:  http://127.0.0.1:7862\n",
      "Running on public URL: https://082361d87a9b410fd4.gradio.live\n",
      "\n",
      "This share link expires in 72 hours. For free permanent hosting and GPU upgrades, run `gradio deploy` from Terminal to deploy to Spaces (https://huggingface.co/spaces)\n"
     ]
    },
    {
     "data": {
      "text/html": [
       "<div><iframe src=\"https://082361d87a9b410fd4.gradio.live\" width=\"100%\" height=\"500\" allow=\"autoplay; camera; microphone; clipboard-read; clipboard-write;\" frameborder=\"0\" allowfullscreen></iframe></div>"
      ],
      "text/plain": [
       "<IPython.core.display.HTML object>"
      ]
     },
     "metadata": {},
     "output_type": "display_data"
    }
   ],
   "source": [
    "import gradio as gr\n",
    "from transformers import AutoTokenizer, AutoModelForCausalLM\n",
    "\n",
    "# Path to your local Phil-1.5 model\n",
    "MODEL_PATH = r\"D:\\ChatBot\\phil-1.5\"\n",
    "\n",
    "# Load model and tokenizer\n",
    "tokenizer = AutoTokenizer.from_pretrained(MODEL_PATH, trust_remote_code=True)\n",
    "model = AutoModelForCausalLM.from_pretrained(MODEL_PATH, trust_remote_code=True, use_safetensors=True)\n",
    "\n",
    "# Core response generator\n",
    "def generate_response(user_input):\n",
    "    try:\n",
    "        prompt = (\n",
    "            \"You are a knowledgeable and empathetic AI health assistant.\\n\"\n",
    "            \"Your task is to clearly explain what may be causing the user's symptom, suggest basic home care tips, \"\n",
    "            \"and advise when it's necessary to see a doctor. Always respond in a supportive tone. \"\n",
    "            \"Never ask the user questions. Do not include rhetorical questions. \"\n",
    "            \"Give a clear, complete answer using supportive and informative language. \"\n",
    "            \"NEVER include any of the following phrases: 'Have you', 'Are you', 'Could it be', 'Is it possible that'.\\n\\n\"\n",
    "            f\"User: {user_input.strip()}\\n\"\n",
    "            \"Assistant:\"\n",
    "        )\n",
    "\n",
    "        input_ids = tokenizer.encode(prompt, return_tensors=\"pt\")\n",
    "        output_ids = model.generate(\n",
    "            input_ids,\n",
    "            max_new_tokens=350,\n",
    "            temperature=0.6,              # Slightly reduced for more focused output\n",
    "            top_k=50,\n",
    "            top_p=0.9,\n",
    "            do_sample=True,\n",
    "            repetition_penalty=1.2,      # Helps reduce repeated or vague replies\n",
    "            pad_token_id=tokenizer.eos_token_id\n",
    "        )\n",
    "\n",
    "        generated = tokenizer.decode(output_ids[0][len(input_ids[0]):], skip_special_tokens=True)\n",
    "\n",
    "        # Cut off at hallucinated speaker switches\n",
    "        for stop_word in [\"User:\", \"Patient:\", \"Q:\", \"###\", \"\\n\\n\"]:\n",
    "            if stop_word in generated:\n",
    "                generated = generated.split(stop_word)[0]\n",
    "\n",
    "        return generated.strip()\n",
    "\n",
    "    except Exception as e:\n",
    "        return f\"⚠️ Sorry, something went wrong while generating a response. Error: {str(e)}\"\n",
    "\n",
    "# Gradio interface logic\n",
    "def health_bot_interface(user_input):\n",
    "    return generate_response(user_input)\n",
    "\n",
    "# Run the Gradio app\n",
    "if __name__ == \"__main__\":\n",
    "    gr.Interface(\n",
    "        fn=health_bot_interface,\n",
    "        inputs=gr.Textbox(\n",
    "            lines=4,\n",
    "            label=\"Your Health Concern\",\n",
    "            placeholder=\"Example: I've had a sore throat and mild fever for 3 days.\"\n",
    "        ),\n",
    "        outputs=gr.Textbox(\n",
    "            lines=8,\n",
    "            label=\"AI Health Assistant's Response\"\n",
    "        ),\n",
    "        title=\"🩺 AI Health Assistant (Phil-1.5)\",\n",
    "        description=(\n",
    "            \"Get helpful, clear guidance on your health-related questions. This assistant is powered by a locally hosted AI model (Phil-1.5).\\n\\n\"\n",
    "            \"⚠️ Note: This tool is for educational use only. Always consult a qualified medical professional for real health concerns.\"\n",
    "        ),\n",
    "        theme=\"soft\",\n",
    "        allow_flagging=\"never\",\n",
    "        live=True\n",
    "    ).launch(share=True)\n"
   ]
  },
  {
   "cell_type": "code",
   "execution_count": null,
   "id": "056dd787-ec6b-4327-8ec0-2d91dd3e2533",
   "metadata": {},
   "outputs": [],
   "source": []
  },
  {
   "cell_type": "code",
   "execution_count": null,
   "id": "b583806e-1331-4bdd-add8-799f6c7b697d",
   "metadata": {},
   "outputs": [],
   "source": []
  },
  {
   "cell_type": "code",
   "execution_count": null,
   "id": "81fdc3c2-eff6-46b8-a714-f8db70d71627",
   "metadata": {},
   "outputs": [],
   "source": []
  }
 ],
 "metadata": {
  "kernelspec": {
   "display_name": "Python 3 (ipykernel)",
   "language": "python",
   "name": "python3"
  },
  "language_info": {
   "codemirror_mode": {
    "name": "ipython",
    "version": 3
   },
   "file_extension": ".py",
   "mimetype": "text/x-python",
   "name": "python",
   "nbconvert_exporter": "python",
   "pygments_lexer": "ipython3",
   "version": "3.9.21"
  }
 },
 "nbformat": 4,
 "nbformat_minor": 5
}
